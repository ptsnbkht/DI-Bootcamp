{
  "nbformat": 4,
  "nbformat_minor": 0,
  "metadata": {
    "colab": {
      "provenance": [],
      "authorship_tag": "ABX9TyNHia2z0ugjmKEuJCunQgU2",
      "include_colab_link": true
    },
    "kernelspec": {
      "name": "python3",
      "display_name": "Python 3"
    },
    "language_info": {
      "name": "python"
    }
  },
  "cells": [
    {
      "cell_type": "markdown",
      "metadata": {
        "id": "view-in-github",
        "colab_type": "text"
      },
      "source": [
        "<a href=\"https://colab.research.google.com/github/ptsnbkht/DI-Bootcamp/blob/main/daily_challenge_d3.ipynb\" target=\"_parent\"><img src=\"https://colab.research.google.com/assets/colab-badge.svg\" alt=\"Open In Colab\"/></a>"
      ]
    },
    {
      "cell_type": "code",
      "execution_count": 1,
      "metadata": {
        "colab": {
          "base_uri": "https://localhost:8080/"
        },
        "id": "vUtyPeoxcW6F",
        "outputId": "0d76d40c-4fbd-43d9-f7d4-eb237c7c2635"
      },
      "outputs": [
        {
          "output_type": "stream",
          "name": "stdout",
          "text": [
            "   salary  salary_normalized\n",
            "0  149000           0.601010\n",
            "1  120000           0.454545\n",
            "2   68000           0.191919\n",
            "3  120000           0.454545\n",
            "4  149000           0.601010\n"
          ]
        }
      ],
      "source": [
        "\n",
        "import pandas as pd\n",
        "from sklearn.preprocessing import MinMaxScaler\n",
        "df = pd.read_csv('datascience_salaries.csv')\n",
        "scaler = MinMaxScaler()\n",
        "df['salary_normalized'] = scaler.fit_transform(df[['salary']])\n",
        "print(df[['salary', 'salary_normalized']].head())"
      ]
    },
    {
      "cell_type": "code",
      "source": [
        "\n",
        "experience_level_grouped = df.groupby('experience_level')\n",
        "\n",
        "average_salary_by_experience = experience_level_grouped['salary'].mean()\n",
        "median_salary_by_experience = experience_level_grouped['salary'].median()\n",
        "\n",
        "print(\"Average Salary by Experience Level:\")\n",
        "print(average_salary_by_experience)\n",
        "\n",
        "print(\"\\nMedian Salary by Experience Level:\")\n",
        "median_salary_by_experience"
      ],
      "metadata": {
        "colab": {
          "base_uri": "https://localhost:8080/",
          "height": 397
        },
        "id": "4Sh9QsyQekiE",
        "outputId": "65c6d935-40bf-4d8f-8d3b-7b8212c75624"
      },
      "execution_count": 5,
      "outputs": [
        {
          "output_type": "stream",
          "name": "stdout",
          "text": [
            "Average Salary by Experience Level:\n",
            "experience_level\n",
            "Entry        36111.111111\n",
            "Executive    76076.923077\n",
            "Mid          51786.885246\n",
            "Senior       75088.033012\n",
            "Name: salary, dtype: float64\n",
            "\n",
            "Median Salary by Experience Level:\n"
          ]
        },
        {
          "output_type": "execute_result",
          "data": {
            "text/plain": [
              "experience_level\n",
              "Entry        30000.0\n",
              "Executive    46000.0\n",
              "Mid          51000.0\n",
              "Senior       68000.0\n",
              "Name: salary, dtype: float64"
            ],
            "text/html": [
              "<div>\n",
              "<style scoped>\n",
              "    .dataframe tbody tr th:only-of-type {\n",
              "        vertical-align: middle;\n",
              "    }\n",
              "\n",
              "    .dataframe tbody tr th {\n",
              "        vertical-align: top;\n",
              "    }\n",
              "\n",
              "    .dataframe thead th {\n",
              "        text-align: right;\n",
              "    }\n",
              "</style>\n",
              "<table border=\"1\" class=\"dataframe\">\n",
              "  <thead>\n",
              "    <tr style=\"text-align: right;\">\n",
              "      <th></th>\n",
              "      <th>salary</th>\n",
              "    </tr>\n",
              "    <tr>\n",
              "      <th>experience_level</th>\n",
              "      <th></th>\n",
              "    </tr>\n",
              "  </thead>\n",
              "  <tbody>\n",
              "    <tr>\n",
              "      <th>Entry</th>\n",
              "      <td>30000.0</td>\n",
              "    </tr>\n",
              "    <tr>\n",
              "      <th>Executive</th>\n",
              "      <td>46000.0</td>\n",
              "    </tr>\n",
              "    <tr>\n",
              "      <th>Mid</th>\n",
              "      <td>51000.0</td>\n",
              "    </tr>\n",
              "    <tr>\n",
              "      <th>Senior</th>\n",
              "      <td>68000.0</td>\n",
              "    </tr>\n",
              "  </tbody>\n",
              "</table>\n",
              "</div><br><label><b>dtype:</b> float64</label>"
            ]
          },
          "metadata": {},
          "execution_count": 5
        }
      ]
    }
  ]
}