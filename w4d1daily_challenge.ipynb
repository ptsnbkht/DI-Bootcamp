{
  "nbformat": 4,
  "nbformat_minor": 0,
  "metadata": {
    "colab": {
      "provenance": [],
      "authorship_tag": "ABX9TyMH4g2BgJkq5FNy55MjfD6R",
      "include_colab_link": true
    },
    "kernelspec": {
      "name": "python3",
      "display_name": "Python 3"
    },
    "language_info": {
      "name": "python"
    }
  },
  "cells": [
    {
      "cell_type": "markdown",
      "metadata": {
        "id": "view-in-github",
        "colab_type": "text"
      },
      "source": [
        "<a href=\"https://colab.research.google.com/github/ptsnbkht/DI-Bootcamp/blob/main/w4d1daily_challenge.ipynb\" target=\"_parent\"><img src=\"https://colab.research.google.com/assets/colab-badge.svg\" alt=\"Open In Colab\"/></a>"
      ]
    },
    {
      "cell_type": "code",
      "source": [
        "\n",
        "import numpy as np\n",
        "\n",
        "# Create a random 5x5 matrix\n",
        "matrix = np.random.rand(5, 5)\n",
        "\n",
        "# Find the maximum value in the matrix\n",
        "max_value = np.max(matrix)\n",
        "\n",
        "# Replace the maximum value with 0\n",
        "matrix[matrix == max_value] = 0\n",
        "\n",
        "# Print the modified matrix\n",
        "matrix"
      ],
      "metadata": {
        "colab": {
          "base_uri": "https://localhost:8080/"
        },
        "id": "KfX25DeaWKTO",
        "outputId": "98de8890-bd27-46d1-bb80-d9f5c8386098"
      },
      "execution_count": 3,
      "outputs": [
        {
          "output_type": "execute_result",
          "data": {
            "text/plain": [
              "array([[0.52323673, 0.69349384, 0.70422849, 0.0113236 , 0.        ],\n",
              "       [0.28926718, 0.37490034, 0.90303361, 0.14832092, 0.66717978],\n",
              "       [0.68609685, 0.92980985, 0.63964152, 0.96062803, 0.74953207],\n",
              "       [0.40018602, 0.28961042, 0.42250101, 0.97913632, 0.02137253],\n",
              "       [0.58942594, 0.7597719 , 0.95809278, 0.71140358, 0.89899227]])"
            ]
          },
          "metadata": {},
          "execution_count": 3
        }
      ]
    },
    {
      "cell_type": "code",
      "source": [
        "\n",
        "import numpy as np\n",
        "array1 = np.random.rand(5)\n",
        "array2 = np.random.rand(5)\n",
        "common_values = np.intersect1d(array1, array2)\n",
        "common_values"
      ],
      "metadata": {
        "colab": {
          "base_uri": "https://localhost:8080/"
        },
        "id": "I9cXwAC9WgyR",
        "outputId": "2b37b479-ecb6-4262-f0ae-a33251b13404"
      },
      "execution_count": 4,
      "outputs": [
        {
          "output_type": "execute_result",
          "data": {
            "text/plain": [
              "array([], dtype=float64)"
            ]
          },
          "metadata": {},
          "execution_count": 4
        }
      ]
    },
    {
      "cell_type": "code",
      "source": [
        "\n",
        "import numpy as np\n",
        "# Create a random 1D array of size 10\n",
        "array_1d = np.random.rand(10)\n",
        "print(\"Original array:\", array_1d)\n",
        "# Sort in ascending order\n",
        "array_ascending = np.sort(array_1d)\n",
        "print(\"Sorted in ascending order:\", array_ascending)\n",
        "# Sort in descending order\n",
        "array_descending = np.sort(array_1d)[::-1]\n",
        "print(\"Sorted in descending order:\", array_descending)"
      ],
      "metadata": {
        "colab": {
          "base_uri": "https://localhost:8080/"
        },
        "id": "YuCWeYZNWouQ",
        "outputId": "55f72669-b925-4d42-9c55-6e56a0fc329b"
      },
      "execution_count": 5,
      "outputs": [
        {
          "output_type": "stream",
          "name": "stdout",
          "text": [
            "Original array: [0.41103854 0.58860504 0.10275102 0.49492057 0.9192745  0.75484286\n",
            " 0.18478045 0.04168311 0.96589928 0.11194923]\n",
            "Sorted in ascending order: [0.04168311 0.10275102 0.11194923 0.18478045 0.41103854 0.49492057\n",
            " 0.58860504 0.75484286 0.9192745  0.96589928]\n",
            "Sorted in descending order: [0.96589928 0.9192745  0.75484286 0.58860504 0.49492057 0.41103854\n",
            " 0.18478045 0.11194923 0.10275102 0.04168311]\n"
          ]
        }
      ]
    },
    {
      "cell_type": "code",
      "source": [
        "\n",
        "import numpy as np\n",
        "# Generate a random 4x4 matrix\n",
        "matrix_4x4 = np.random.rand(4, 4)\n",
        "\n",
        "# Find the rank of the matrix\n",
        "rank = np.linalg.matrix_rank(matrix_4x4)\n",
        "\n",
        "# Print the matrix and its rank\n",
        "print(\"Random 4x4 matrix:\\n\", matrix_4x4)\n",
        "print(\"\\nRank of the matrix:\", rank)"
      ],
      "metadata": {
        "colab": {
          "base_uri": "https://localhost:8080/"
        },
        "id": "q4k-WPKYXykf",
        "outputId": "16a832aa-0170-41e2-fb02-06fcc76f04ed"
      },
      "execution_count": 6,
      "outputs": [
        {
          "output_type": "stream",
          "name": "stdout",
          "text": [
            "Random 4x4 matrix:\n",
            " [[0.26560721 0.76761229 0.12075421 0.20428345]\n",
            " [0.07238734 0.08959826 0.95601586 0.26143494]\n",
            " [0.85233798 0.03944604 0.14625783 0.18330952]\n",
            " [0.80098524 0.29416374 0.34651519 0.59189403]]\n",
            "\n",
            "Rank of the matrix: 4\n"
          ]
        }
      ]
    },
    {
      "cell_type": "code",
      "source": [
        "\n",
        "import numpy as np\n",
        "n = 5 # You can change n to your desired size\n",
        "result = np.ones((n, n), dtype=int)\n",
        "result[1:-1, 1:-1] = 0\n",
        "result"
      ],
      "metadata": {
        "colab": {
          "base_uri": "https://localhost:8080/"
        },
        "id": "HeBkXQgrX3Dz",
        "outputId": "0139ec36-f249-4e08-f1cd-20b3f42ea7e9"
      },
      "execution_count": 7,
      "outputs": [
        {
          "output_type": "execute_result",
          "data": {
            "text/plain": [
              "array([[1, 1, 1, 1, 1],\n",
              "       [1, 0, 0, 0, 1],\n",
              "       [1, 0, 0, 0, 1],\n",
              "       [1, 0, 0, 0, 1],\n",
              "       [1, 1, 1, 1, 1]])"
            ]
          },
          "metadata": {},
          "execution_count": 7
        }
      ]
    }
  ]
}